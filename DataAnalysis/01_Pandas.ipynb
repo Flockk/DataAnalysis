{
  "cells": [
    {
      "attachments": {},
      "cell_type": "markdown",
      "metadata": {
        "id": "SzGWS95srRI6"
      },
      "source": [
        "## Введение в Pandas"
      ]
    },
    {
      "cell_type": "code",
      "execution_count": null,
      "metadata": {
        "id": "e5vwuyfzi7Y2"
      },
      "outputs": [],
      "source": [
        "from google.colab import drive\n",
        "\n",
        "drive.mount('/gdrive' )"
      ]
    },
    {
      "cell_type": "code",
      "execution_count": 2,
      "metadata": {
        "id": "yRvnDOTakkxH"
      },
      "outputs": [],
      "source": [
        "import pandas as pd\n",
        "\n",
        "data = pd.read_csv(\"/gdrive/My Drive/data/201809-citibike-tripdata.csv\")"
      ]
    },
    {
      "cell_type": "code",
      "execution_count": 3,
      "metadata": {
        "colab": {
          "base_uri": "https://localhost:8080/",
          "height": 406
        },
        "id": "z2UrXpPItzEt",
        "outputId": "e2809b06-e804-41c0-824f-c07fadd89138"
      },
      "outputs": [
        {
          "data": {
            "text/html": [
              "\n",
              "  <div id=\"df-c3198f73-9c20-4c92-aef8-e5ad621b617c\">\n",
              "    <div class=\"colab-df-container\">\n",
              "      <div>\n",
              "<style scoped>\n",
              "    .dataframe tbody tr th:only-of-type {\n",
              "        vertical-align: middle;\n",
              "    }\n",
              "\n",
              "    .dataframe tbody tr th {\n",
              "        vertical-align: top;\n",
              "    }\n",
              "\n",
              "    .dataframe thead th {\n",
              "        text-align: right;\n",
              "    }\n",
              "</style>\n",
              "<table border=\"1\" class=\"dataframe\">\n",
              "  <thead>\n",
              "    <tr style=\"text-align: right;\">\n",
              "      <th></th>\n",
              "      <th>tripduration</th>\n",
              "      <th>starttime</th>\n",
              "      <th>stoptime</th>\n",
              "      <th>start station id</th>\n",
              "      <th>start station name</th>\n",
              "      <th>start station latitude</th>\n",
              "      <th>start station longitude</th>\n",
              "      <th>end station id</th>\n",
              "      <th>end station name</th>\n",
              "      <th>end station latitude</th>\n",
              "      <th>end station longitude</th>\n",
              "      <th>bikeid</th>\n",
              "      <th>usertype</th>\n",
              "      <th>birth year</th>\n",
              "      <th>gender</th>\n",
              "    </tr>\n",
              "  </thead>\n",
              "  <tbody>\n",
              "    <tr>\n",
              "      <th>0</th>\n",
              "      <td>1635</td>\n",
              "      <td>2018-09-01 00:00:05.2690</td>\n",
              "      <td>2018-09-01 00:27:20.6340</td>\n",
              "      <td>252.0</td>\n",
              "      <td>MacDougal St &amp; Washington Sq</td>\n",
              "      <td>40.732264</td>\n",
              "      <td>-73.998522</td>\n",
              "      <td>366.0</td>\n",
              "      <td>Clinton Ave &amp; Myrtle Ave</td>\n",
              "      <td>40.693261</td>\n",
              "      <td>-73.968896</td>\n",
              "      <td>25577</td>\n",
              "      <td>Subscriber</td>\n",
              "      <td>1980</td>\n",
              "      <td>1</td>\n",
              "    </tr>\n",
              "    <tr>\n",
              "      <th>1</th>\n",
              "      <td>132</td>\n",
              "      <td>2018-09-01 00:00:11.2810</td>\n",
              "      <td>2018-09-01 00:02:23.4810</td>\n",
              "      <td>314.0</td>\n",
              "      <td>Cadman Plaza West &amp; Montague St</td>\n",
              "      <td>40.693830</td>\n",
              "      <td>-73.990539</td>\n",
              "      <td>3242.0</td>\n",
              "      <td>Schermerhorn St &amp; Court St</td>\n",
              "      <td>40.691029</td>\n",
              "      <td>-73.991834</td>\n",
              "      <td>34377</td>\n",
              "      <td>Subscriber</td>\n",
              "      <td>1969</td>\n",
              "      <td>0</td>\n",
              "    </tr>\n",
              "    <tr>\n",
              "      <th>2</th>\n",
              "      <td>3337</td>\n",
              "      <td>2018-09-01 00:00:20.6490</td>\n",
              "      <td>2018-09-01 00:55:58.5470</td>\n",
              "      <td>3142.0</td>\n",
              "      <td>1 Ave &amp; E 62 St</td>\n",
              "      <td>40.761227</td>\n",
              "      <td>-73.960940</td>\n",
              "      <td>3384.0</td>\n",
              "      <td>Smith St &amp; 3 St</td>\n",
              "      <td>40.678724</td>\n",
              "      <td>-73.995991</td>\n",
              "      <td>30496</td>\n",
              "      <td>Subscriber</td>\n",
              "      <td>1975</td>\n",
              "      <td>1</td>\n",
              "    </tr>\n",
              "    <tr>\n",
              "      <th>3</th>\n",
              "      <td>436</td>\n",
              "      <td>2018-09-01 00:00:21.7460</td>\n",
              "      <td>2018-09-01 00:07:38.5830</td>\n",
              "      <td>308.0</td>\n",
              "      <td>St James Pl &amp; Oliver St</td>\n",
              "      <td>40.713079</td>\n",
              "      <td>-73.998512</td>\n",
              "      <td>3690.0</td>\n",
              "      <td>Park Pl &amp; Church St</td>\n",
              "      <td>40.713342</td>\n",
              "      <td>-74.009355</td>\n",
              "      <td>28866</td>\n",
              "      <td>Subscriber</td>\n",
              "      <td>1984</td>\n",
              "      <td>2</td>\n",
              "    </tr>\n",
              "    <tr>\n",
              "      <th>4</th>\n",
              "      <td>8457</td>\n",
              "      <td>2018-09-01 00:00:27.3150</td>\n",
              "      <td>2018-09-01 02:21:25.3080</td>\n",
              "      <td>345.0</td>\n",
              "      <td>W 13 St &amp; 6 Ave</td>\n",
              "      <td>40.736494</td>\n",
              "      <td>-73.997044</td>\n",
              "      <td>380.0</td>\n",
              "      <td>W 4 St &amp; 7 Ave S</td>\n",
              "      <td>40.734011</td>\n",
              "      <td>-74.002939</td>\n",
              "      <td>20943</td>\n",
              "      <td>Customer</td>\n",
              "      <td>1994</td>\n",
              "      <td>1</td>\n",
              "    </tr>\n",
              "  </tbody>\n",
              "</table>\n",
              "</div>\n",
              "      <button class=\"colab-df-convert\" onclick=\"convertToInteractive('df-c3198f73-9c20-4c92-aef8-e5ad621b617c')\"\n",
              "              title=\"Convert this dataframe to an interactive table.\"\n",
              "              style=\"display:none;\">\n",
              "        \n",
              "  <svg xmlns=\"http://www.w3.org/2000/svg\" height=\"24px\"viewBox=\"0 0 24 24\"\n",
              "       width=\"24px\">\n",
              "    <path d=\"M0 0h24v24H0V0z\" fill=\"none\"/>\n",
              "    <path d=\"M18.56 5.44l.94 2.06.94-2.06 2.06-.94-2.06-.94-.94-2.06-.94 2.06-2.06.94zm-11 1L8.5 8.5l.94-2.06 2.06-.94-2.06-.94L8.5 2.5l-.94 2.06-2.06.94zm10 10l.94 2.06.94-2.06 2.06-.94-2.06-.94-.94-2.06-.94 2.06-2.06.94z\"/><path d=\"M17.41 7.96l-1.37-1.37c-.4-.4-.92-.59-1.43-.59-.52 0-1.04.2-1.43.59L10.3 9.45l-7.72 7.72c-.78.78-.78 2.05 0 2.83L4 21.41c.39.39.9.59 1.41.59.51 0 1.02-.2 1.41-.59l7.78-7.78 2.81-2.81c.8-.78.8-2.07 0-2.86zM5.41 20L4 18.59l7.72-7.72 1.47 1.35L5.41 20z\"/>\n",
              "  </svg>\n",
              "      </button>\n",
              "      \n",
              "  <style>\n",
              "    .colab-df-container {\n",
              "      display:flex;\n",
              "      flex-wrap:wrap;\n",
              "      gap: 12px;\n",
              "    }\n",
              "\n",
              "    .colab-df-convert {\n",
              "      background-color: #E8F0FE;\n",
              "      border: none;\n",
              "      border-radius: 50%;\n",
              "      cursor: pointer;\n",
              "      display: none;\n",
              "      fill: #1967D2;\n",
              "      height: 32px;\n",
              "      padding: 0 0 0 0;\n",
              "      width: 32px;\n",
              "    }\n",
              "\n",
              "    .colab-df-convert:hover {\n",
              "      background-color: #E2EBFA;\n",
              "      box-shadow: 0px 1px 2px rgba(60, 64, 67, 0.3), 0px 1px 3px 1px rgba(60, 64, 67, 0.15);\n",
              "      fill: #174EA6;\n",
              "    }\n",
              "\n",
              "    [theme=dark] .colab-df-convert {\n",
              "      background-color: #3B4455;\n",
              "      fill: #D2E3FC;\n",
              "    }\n",
              "\n",
              "    [theme=dark] .colab-df-convert:hover {\n",
              "      background-color: #434B5C;\n",
              "      box-shadow: 0px 1px 3px 1px rgba(0, 0, 0, 0.15);\n",
              "      filter: drop-shadow(0px 1px 2px rgba(0, 0, 0, 0.3));\n",
              "      fill: #FFFFFF;\n",
              "    }\n",
              "  </style>\n",
              "\n",
              "      <script>\n",
              "        const buttonEl =\n",
              "          document.querySelector('#df-c3198f73-9c20-4c92-aef8-e5ad621b617c button.colab-df-convert');\n",
              "        buttonEl.style.display =\n",
              "          google.colab.kernel.accessAllowed ? 'block' : 'none';\n",
              "\n",
              "        async function convertToInteractive(key) {\n",
              "          const element = document.querySelector('#df-c3198f73-9c20-4c92-aef8-e5ad621b617c');\n",
              "          const dataTable =\n",
              "            await google.colab.kernel.invokeFunction('convertToInteractive',\n",
              "                                                     [key], {});\n",
              "          if (!dataTable) return;\n",
              "\n",
              "          const docLinkHtml = 'Like what you see? Visit the ' +\n",
              "            '<a target=\"_blank\" href=https://colab.research.google.com/notebooks/data_table.ipynb>data table notebook</a>'\n",
              "            + ' to learn more about interactive tables.';\n",
              "          element.innerHTML = '';\n",
              "          dataTable['output_type'] = 'display_data';\n",
              "          await google.colab.output.renderOutput(dataTable, element);\n",
              "          const docLink = document.createElement('div');\n",
              "          docLink.innerHTML = docLinkHtml;\n",
              "          element.appendChild(docLink);\n",
              "        }\n",
              "      </script>\n",
              "    </div>\n",
              "  </div>\n",
              "  "
            ],
            "text/plain": [
              "   tripduration                 starttime                  stoptime  \\\n",
              "0          1635  2018-09-01 00:00:05.2690  2018-09-01 00:27:20.6340   \n",
              "1           132  2018-09-01 00:00:11.2810  2018-09-01 00:02:23.4810   \n",
              "2          3337  2018-09-01 00:00:20.6490  2018-09-01 00:55:58.5470   \n",
              "3           436  2018-09-01 00:00:21.7460  2018-09-01 00:07:38.5830   \n",
              "4          8457  2018-09-01 00:00:27.3150  2018-09-01 02:21:25.3080   \n",
              "\n",
              "   start station id               start station name  start station latitude  \\\n",
              "0             252.0     MacDougal St & Washington Sq               40.732264   \n",
              "1             314.0  Cadman Plaza West & Montague St               40.693830   \n",
              "2            3142.0                  1 Ave & E 62 St               40.761227   \n",
              "3             308.0          St James Pl & Oliver St               40.713079   \n",
              "4             345.0                  W 13 St & 6 Ave               40.736494   \n",
              "\n",
              "   start station longitude  end station id            end station name  \\\n",
              "0               -73.998522           366.0    Clinton Ave & Myrtle Ave   \n",
              "1               -73.990539          3242.0  Schermerhorn St & Court St   \n",
              "2               -73.960940          3384.0             Smith St & 3 St   \n",
              "3               -73.998512          3690.0         Park Pl & Church St   \n",
              "4               -73.997044           380.0            W 4 St & 7 Ave S   \n",
              "\n",
              "   end station latitude  end station longitude  bikeid    usertype  \\\n",
              "0             40.693261             -73.968896   25577  Subscriber   \n",
              "1             40.691029             -73.991834   34377  Subscriber   \n",
              "2             40.678724             -73.995991   30496  Subscriber   \n",
              "3             40.713342             -74.009355   28866  Subscriber   \n",
              "4             40.734011             -74.002939   20943    Customer   \n",
              "\n",
              "   birth year  gender  \n",
              "0        1980       1  \n",
              "1        1969       0  \n",
              "2        1975       1  \n",
              "3        1984       2  \n",
              "4        1994       1  "
            ]
          },
          "execution_count": 3,
          "metadata": {},
          "output_type": "execute_result"
        }
      ],
      "source": [
        "data.head()"
      ]
    },
    {
      "cell_type": "code",
      "execution_count": 4,
      "metadata": {
        "colab": {
          "base_uri": "https://localhost:8080/",
          "height": 458
        },
        "id": "a6GyaR7fxzbZ",
        "outputId": "7d12341f-2831-4e5a-a52c-ba14ee0c18a5"
      },
      "outputs": [
        {
          "data": {
            "text/html": [
              "\n",
              "  <div id=\"df-e8db0e33-4aaf-4996-9cb2-4a6d70fd7b0b\">\n",
              "    <div class=\"colab-df-container\">\n",
              "      <div>\n",
              "<style scoped>\n",
              "    .dataframe tbody tr th:only-of-type {\n",
              "        vertical-align: middle;\n",
              "    }\n",
              "\n",
              "    .dataframe tbody tr th {\n",
              "        vertical-align: top;\n",
              "    }\n",
              "\n",
              "    .dataframe thead th {\n",
              "        text-align: right;\n",
              "    }\n",
              "</style>\n",
              "<table border=\"1\" class=\"dataframe\">\n",
              "  <thead>\n",
              "    <tr style=\"text-align: right;\">\n",
              "      <th></th>\n",
              "      <th>tripduration</th>\n",
              "      <th>starttime</th>\n",
              "      <th>stoptime</th>\n",
              "      <th>start station id</th>\n",
              "      <th>start station name</th>\n",
              "      <th>start station latitude</th>\n",
              "      <th>start station longitude</th>\n",
              "      <th>end station id</th>\n",
              "      <th>end station name</th>\n",
              "      <th>end station latitude</th>\n",
              "      <th>end station longitude</th>\n",
              "      <th>bikeid</th>\n",
              "      <th>usertype</th>\n",
              "      <th>birth year</th>\n",
              "      <th>gender</th>\n",
              "    </tr>\n",
              "  </thead>\n",
              "  <tbody>\n",
              "    <tr>\n",
              "      <th>1877879</th>\n",
              "      <td>369</td>\n",
              "      <td>2018-09-30 00:27:25.9840</td>\n",
              "      <td>2018-09-30 00:33:35.7070</td>\n",
              "      <td>3601.0</td>\n",
              "      <td>Sterling St &amp; Bedford Ave</td>\n",
              "      <td>40.662706</td>\n",
              "      <td>-73.956912</td>\n",
              "      <td>3631.0</td>\n",
              "      <td>Crown St &amp; Bedford Ave</td>\n",
              "      <td>40.666563</td>\n",
              "      <td>-73.956741</td>\n",
              "      <td>32976</td>\n",
              "      <td>Subscriber</td>\n",
              "      <td>1985</td>\n",
              "      <td>2</td>\n",
              "    </tr>\n",
              "    <tr>\n",
              "      <th>1877880</th>\n",
              "      <td>191</td>\n",
              "      <td>2018-09-30 00:30:30.1850</td>\n",
              "      <td>2018-09-30 00:33:42.1090</td>\n",
              "      <td>3601.0</td>\n",
              "      <td>Sterling St &amp; Bedford Ave</td>\n",
              "      <td>40.662706</td>\n",
              "      <td>-73.956912</td>\n",
              "      <td>3631.0</td>\n",
              "      <td>Crown St &amp; Bedford Ave</td>\n",
              "      <td>40.666563</td>\n",
              "      <td>-73.956741</td>\n",
              "      <td>15595</td>\n",
              "      <td>Subscriber</td>\n",
              "      <td>1985</td>\n",
              "      <td>2</td>\n",
              "    </tr>\n",
              "    <tr>\n",
              "      <th>1877881</th>\n",
              "      <td>1442</td>\n",
              "      <td>2018-09-30 08:10:03.1790</td>\n",
              "      <td>2018-09-30 08:34:05.3870</td>\n",
              "      <td>3601.0</td>\n",
              "      <td>Sterling St &amp; Bedford Ave</td>\n",
              "      <td>40.662706</td>\n",
              "      <td>-73.956912</td>\n",
              "      <td>471.0</td>\n",
              "      <td>Grand St &amp; Havemeyer St</td>\n",
              "      <td>40.712868</td>\n",
              "      <td>-73.956981</td>\n",
              "      <td>28646</td>\n",
              "      <td>Subscriber</td>\n",
              "      <td>1981</td>\n",
              "      <td>1</td>\n",
              "    </tr>\n",
              "    <tr>\n",
              "      <th>1877882</th>\n",
              "      <td>453</td>\n",
              "      <td>2018-09-30 12:20:13.6830</td>\n",
              "      <td>2018-09-30 12:27:46.9140</td>\n",
              "      <td>3601.0</td>\n",
              "      <td>Sterling St &amp; Bedford Ave</td>\n",
              "      <td>40.662706</td>\n",
              "      <td>-73.956912</td>\n",
              "      <td>3584.0</td>\n",
              "      <td>Eastern Pkwy &amp; Franklin Ave</td>\n",
              "      <td>40.670777</td>\n",
              "      <td>-73.957680</td>\n",
              "      <td>34272</td>\n",
              "      <td>Subscriber</td>\n",
              "      <td>1986</td>\n",
              "      <td>1</td>\n",
              "    </tr>\n",
              "    <tr>\n",
              "      <th>1877883</th>\n",
              "      <td>1354</td>\n",
              "      <td>2018-09-30 14:10:01.1620</td>\n",
              "      <td>2018-09-30 14:32:36.1280</td>\n",
              "      <td>3601.0</td>\n",
              "      <td>Sterling St &amp; Bedford Ave</td>\n",
              "      <td>40.662706</td>\n",
              "      <td>-73.956912</td>\n",
              "      <td>3321.0</td>\n",
              "      <td>Clinton St &amp; Union St</td>\n",
              "      <td>40.683116</td>\n",
              "      <td>-73.997853</td>\n",
              "      <td>26028</td>\n",
              "      <td>Subscriber</td>\n",
              "      <td>1981</td>\n",
              "      <td>1</td>\n",
              "    </tr>\n",
              "  </tbody>\n",
              "</table>\n",
              "</div>\n",
              "      <button class=\"colab-df-convert\" onclick=\"convertToInteractive('df-e8db0e33-4aaf-4996-9cb2-4a6d70fd7b0b')\"\n",
              "              title=\"Convert this dataframe to an interactive table.\"\n",
              "              style=\"display:none;\">\n",
              "        \n",
              "  <svg xmlns=\"http://www.w3.org/2000/svg\" height=\"24px\"viewBox=\"0 0 24 24\"\n",
              "       width=\"24px\">\n",
              "    <path d=\"M0 0h24v24H0V0z\" fill=\"none\"/>\n",
              "    <path d=\"M18.56 5.44l.94 2.06.94-2.06 2.06-.94-2.06-.94-.94-2.06-.94 2.06-2.06.94zm-11 1L8.5 8.5l.94-2.06 2.06-.94-2.06-.94L8.5 2.5l-.94 2.06-2.06.94zm10 10l.94 2.06.94-2.06 2.06-.94-2.06-.94-.94-2.06-.94 2.06-2.06.94z\"/><path d=\"M17.41 7.96l-1.37-1.37c-.4-.4-.92-.59-1.43-.59-.52 0-1.04.2-1.43.59L10.3 9.45l-7.72 7.72c-.78.78-.78 2.05 0 2.83L4 21.41c.39.39.9.59 1.41.59.51 0 1.02-.2 1.41-.59l7.78-7.78 2.81-2.81c.8-.78.8-2.07 0-2.86zM5.41 20L4 18.59l7.72-7.72 1.47 1.35L5.41 20z\"/>\n",
              "  </svg>\n",
              "      </button>\n",
              "      \n",
              "  <style>\n",
              "    .colab-df-container {\n",
              "      display:flex;\n",
              "      flex-wrap:wrap;\n",
              "      gap: 12px;\n",
              "    }\n",
              "\n",
              "    .colab-df-convert {\n",
              "      background-color: #E8F0FE;\n",
              "      border: none;\n",
              "      border-radius: 50%;\n",
              "      cursor: pointer;\n",
              "      display: none;\n",
              "      fill: #1967D2;\n",
              "      height: 32px;\n",
              "      padding: 0 0 0 0;\n",
              "      width: 32px;\n",
              "    }\n",
              "\n",
              "    .colab-df-convert:hover {\n",
              "      background-color: #E2EBFA;\n",
              "      box-shadow: 0px 1px 2px rgba(60, 64, 67, 0.3), 0px 1px 3px 1px rgba(60, 64, 67, 0.15);\n",
              "      fill: #174EA6;\n",
              "    }\n",
              "\n",
              "    [theme=dark] .colab-df-convert {\n",
              "      background-color: #3B4455;\n",
              "      fill: #D2E3FC;\n",
              "    }\n",
              "\n",
              "    [theme=dark] .colab-df-convert:hover {\n",
              "      background-color: #434B5C;\n",
              "      box-shadow: 0px 1px 3px 1px rgba(0, 0, 0, 0.15);\n",
              "      filter: drop-shadow(0px 1px 2px rgba(0, 0, 0, 0.3));\n",
              "      fill: #FFFFFF;\n",
              "    }\n",
              "  </style>\n",
              "\n",
              "      <script>\n",
              "        const buttonEl =\n",
              "          document.querySelector('#df-e8db0e33-4aaf-4996-9cb2-4a6d70fd7b0b button.colab-df-convert');\n",
              "        buttonEl.style.display =\n",
              "          google.colab.kernel.accessAllowed ? 'block' : 'none';\n",
              "\n",
              "        async function convertToInteractive(key) {\n",
              "          const element = document.querySelector('#df-e8db0e33-4aaf-4996-9cb2-4a6d70fd7b0b');\n",
              "          const dataTable =\n",
              "            await google.colab.kernel.invokeFunction('convertToInteractive',\n",
              "                                                     [key], {});\n",
              "          if (!dataTable) return;\n",
              "\n",
              "          const docLinkHtml = 'Like what you see? Visit the ' +\n",
              "            '<a target=\"_blank\" href=https://colab.research.google.com/notebooks/data_table.ipynb>data table notebook</a>'\n",
              "            + ' to learn more about interactive tables.';\n",
              "          element.innerHTML = '';\n",
              "          dataTable['output_type'] = 'display_data';\n",
              "          await google.colab.output.renderOutput(dataTable, element);\n",
              "          const docLink = document.createElement('div');\n",
              "          docLink.innerHTML = docLinkHtml;\n",
              "          element.appendChild(docLink);\n",
              "        }\n",
              "      </script>\n",
              "    </div>\n",
              "  </div>\n",
              "  "
            ],
            "text/plain": [
              "         tripduration                 starttime                  stoptime  \\\n",
              "1877879           369  2018-09-30 00:27:25.9840  2018-09-30 00:33:35.7070   \n",
              "1877880           191  2018-09-30 00:30:30.1850  2018-09-30 00:33:42.1090   \n",
              "1877881          1442  2018-09-30 08:10:03.1790  2018-09-30 08:34:05.3870   \n",
              "1877882           453  2018-09-30 12:20:13.6830  2018-09-30 12:27:46.9140   \n",
              "1877883          1354  2018-09-30 14:10:01.1620  2018-09-30 14:32:36.1280   \n",
              "\n",
              "         start station id         start station name  start station latitude  \\\n",
              "1877879            3601.0  Sterling St & Bedford Ave               40.662706   \n",
              "1877880            3601.0  Sterling St & Bedford Ave               40.662706   \n",
              "1877881            3601.0  Sterling St & Bedford Ave               40.662706   \n",
              "1877882            3601.0  Sterling St & Bedford Ave               40.662706   \n",
              "1877883            3601.0  Sterling St & Bedford Ave               40.662706   \n",
              "\n",
              "         start station longitude  end station id             end station name  \\\n",
              "1877879               -73.956912          3631.0       Crown St & Bedford Ave   \n",
              "1877880               -73.956912          3631.0       Crown St & Bedford Ave   \n",
              "1877881               -73.956912           471.0      Grand St & Havemeyer St   \n",
              "1877882               -73.956912          3584.0  Eastern Pkwy & Franklin Ave   \n",
              "1877883               -73.956912          3321.0        Clinton St & Union St   \n",
              "\n",
              "         end station latitude  end station longitude  bikeid    usertype  \\\n",
              "1877879             40.666563             -73.956741   32976  Subscriber   \n",
              "1877880             40.666563             -73.956741   15595  Subscriber   \n",
              "1877881             40.712868             -73.956981   28646  Subscriber   \n",
              "1877882             40.670777             -73.957680   34272  Subscriber   \n",
              "1877883             40.683116             -73.997853   26028  Subscriber   \n",
              "\n",
              "         birth year  gender  \n",
              "1877879        1985       2  \n",
              "1877880        1985       2  \n",
              "1877881        1981       1  \n",
              "1877882        1986       1  \n",
              "1877883        1981       1  "
            ]
          },
          "execution_count": 4,
          "metadata": {},
          "output_type": "execute_result"
        }
      ],
      "source": [
        "data.tail()"
      ]
    },
    {
      "attachments": {},
      "cell_type": "markdown",
      "metadata": {
        "id": "WXeo-PfLpckm"
      },
      "source": [
        "##### *1. Найти общее количество строк и столбцов в датасете - указать первым число строк, вторым - число столбцов*\n"
      ]
    },
    {
      "cell_type": "code",
      "execution_count": 5,
      "metadata": {
        "colab": {
          "base_uri": "https://localhost:8080/"
        },
        "id": "XeKwVUZRpnhE",
        "outputId": "c969a3d2-e87e-4b40-fe1f-0c1354b45f84"
      },
      "outputs": [
        {
          "data": {
            "text/plain": [
              "(1877884, 15)"
            ]
          },
          "execution_count": 5,
          "metadata": {},
          "output_type": "execute_result"
        }
      ],
      "source": [
        "data.shape"
      ]
    },
    {
      "attachments": {},
      "cell_type": "markdown",
      "metadata": {
        "id": "6GQKNUYCrKOk"
      },
      "source": [
        "##### *2. Найти среднюю длину поездок в минутах(столбец tripduration) c точностью до 2 знака*"
      ]
    },
    {
      "cell_type": "code",
      "execution_count": 6,
      "metadata": {
        "colab": {
          "base_uri": "https://localhost:8080/"
        },
        "id": "z_FHF3lgrLzx",
        "outputId": "feb8836e-3e4b-44a0-bd89-25c137474819"
      },
      "outputs": [
        {
          "data": {
            "text/plain": [
              "16.13"
            ]
          },
          "execution_count": 6,
          "metadata": {},
          "output_type": "execute_result"
        }
      ],
      "source": [
        "data['tripduration'] = data['tripduration']/60\n",
        "round(data.describe()['tripduration']['mean'], 2)"
      ]
    },
    {
      "attachments": {},
      "cell_type": "markdown",
      "metadata": {
        "id": "1q2MSHj7tSPr"
      },
      "source": [
        "##### *3. Сколько поездок начались и закончились в той же самой станции?*"
      ]
    },
    {
      "cell_type": "code",
      "execution_count": 7,
      "metadata": {
        "colab": {
          "base_uri": "https://localhost:8080/"
        },
        "id": "9GUwdSLXtXVe",
        "outputId": "eed4b299-c16d-47ec-ab40-b824a2cb94f6"
      },
      "outputs": [
        {
          "data": {
            "text/plain": [
              "(41364, 15)"
            ]
          },
          "execution_count": 7,
          "metadata": {},
          "output_type": "execute_result"
        }
      ],
      "source": [
        "data[(data['start station id'] == data['end station id'])].shape\n"
      ]
    },
    {
      "attachments": {},
      "cell_type": "markdown",
      "metadata": {
        "id": "m_V1ccknt5__"
      },
      "source": [
        "##### *4. Какой самый используемый байк(bikeid) в городе по количеству поездок?*"
      ]
    },
    {
      "cell_type": "code",
      "execution_count": 8,
      "metadata": {
        "colab": {
          "base_uri": "https://localhost:8080/"
        },
        "id": "5m3doqW8t_gL",
        "outputId": "c4faf402-2c32-4ee4-854a-363699c3b069"
      },
      "outputs": [
        {
          "data": {
            "text/plain": [
              "33875    559\n",
              "Name: bikeid, dtype: int64"
            ]
          },
          "execution_count": 8,
          "metadata": {},
          "output_type": "execute_result"
        }
      ],
      "source": [
        "data['bikeid'].value_counts()[:1]"
      ]
    },
    {
      "attachments": {},
      "cell_type": "markdown",
      "metadata": {
        "id": "kcr_hOUfuAAn"
      },
      "source": [
        "##### *5. Найдите идентификатор велосипеда (bikeid), у которого в среднем продолжительность поездок выше, чем у всех остальных*\n",
        "\n"
      ]
    },
    {
      "cell_type": "code",
      "execution_count": 9,
      "metadata": {
        "colab": {
          "base_uri": "https://localhost:8080/"
        },
        "id": "l1KNXlezuElL",
        "outputId": "6250b899-72c7-42f6-fe82-ce13be4cfb4a"
      },
      "outputs": [
        {
          "data": {
            "text/plain": [
              "bikeid\n",
              "17548    8133.706667\n",
              "Name: tripduration, dtype: float64"
            ]
          },
          "execution_count": 9,
          "metadata": {},
          "output_type": "execute_result"
        }
      ],
      "source": [
        "data.groupby('bikeid')['tripduration'].mean().sort_values(ascending=False)[:1]\n"
      ]
    },
    {
      "attachments": {},
      "cell_type": "markdown",
      "metadata": {
        "id": "EAg24FtwuFez"
      },
      "source": [
        "##### *6. Сколько строк, в которых отсутствуют данные о start station id?*\n",
        "\n"
      ]
    },
    {
      "cell_type": "code",
      "execution_count": 10,
      "metadata": {
        "colab": {
          "base_uri": "https://localhost:8080/"
        },
        "id": "NJ8aDg_vuJSS",
        "outputId": "04570e16-1eb9-490b-e838-ade8cb829e8a"
      },
      "outputs": [
        {
          "data": {
            "text/plain": [
              "(716, 15)"
            ]
          },
          "execution_count": 10,
          "metadata": {},
          "output_type": "execute_result"
        }
      ],
      "source": [
        "data[data['start station id'].isnull()].shape\n"
      ]
    },
    {
      "attachments": {},
      "cell_type": "markdown",
      "metadata": {
        "id": "gbnY8pBTuLeW"
      },
      "source": [
        "##### *7. Какова средняя продолжительность поездки в минутах в зависимости от типа подписки c точностью до 2 знака?*\n",
        "\n"
      ]
    },
    {
      "cell_type": "code",
      "execution_count": 11,
      "metadata": {
        "colab": {
          "base_uri": "https://localhost:8080/"
        },
        "id": "hJtTmVHWuMjl",
        "outputId": "646ac664-b682-46ae-dd99-d4fb78db7242"
      },
      "outputs": [
        {
          "data": {
            "text/plain": [
              "usertype\n",
              "Customer      33.42\n",
              "Subscriber    13.33\n",
              "Name: tripduration, dtype: float64"
            ]
          },
          "execution_count": 11,
          "metadata": {},
          "output_type": "execute_result"
        }
      ],
      "source": [
        "round(data.groupby('usertype')['tripduration'].mean(),2)\n"
      ]
    },
    {
      "attachments": {},
      "cell_type": "markdown",
      "metadata": {
        "id": "d9h4SuCfuM_3"
      },
      "source": [
        "##### *8. Найдите среднюю длину поездок в километрах с точностью до 2 знака, предварительно выкинув замкнутые траектории(те у которых совпадают start station id = end station id).*\n",
        "\n"
      ]
    },
    {
      "cell_type": "code",
      "execution_count": 12,
      "metadata": {
        "colab": {
          "base_uri": "https://localhost:8080/"
        },
        "id": "xA209EkQ-N-I",
        "outputId": "c758a357-ae81-4817-c33a-5b83f1f0bda9"
      },
      "outputs": [
        {
          "data": {
            "text/plain": [
              "1.81"
            ]
          },
          "execution_count": 12,
          "metadata": {},
          "output_type": "execute_result"
        }
      ],
      "source": [
        "from geopy.distance import Point, vincenty\n",
        "\n",
        "\n",
        "data['point1'] = data.apply(lambda x: Point(latitude=x['start station latitude'], longitude=x['start station longitude']), axis=1)\n",
        "data['point2'] = data.apply(lambda y: Point(latitude=y['end station latitude'], longitude=y['end station longitude']), axis=1)\n",
        "\n",
        "data['distance_km'] = data.apply(lambda z: vincenty(z['point1'], z['point2']).kilometers if z['point2'] is not z['point1'] else float('nan'), axis=1)\n",
        "data = data.drop('point2', axis=1)\n",
        "\n",
        "round(data['distance_km'].mean(),2)\n",
        "\n",
        "  "
      ]
    },
    {
      "attachments": {},
      "cell_type": "markdown",
      "metadata": {
        "id": "13dsnaSUuRly"
      },
      "source": [
        "##### *9. Выберите станцию (start station id) с максимальным количеством отправлений с 18 до 20 вечера включительно*\n",
        "\n"
      ]
    },
    {
      "cell_type": "code",
      "execution_count": 13,
      "metadata": {
        "id": "jd-zBfZN0Yfn"
      },
      "outputs": [],
      "source": [
        "import datetime\n",
        "import time\n",
        "\n",
        "data['start_hour'] = data['starttime'].apply(lambda x: datetime.datetime.fromtimestamp(\n",
        "    time.mktime(datetime.datetime.strptime(x.strip(), \"%Y-%m-%d %H:%M:%S.%f\").timetuple())).hour)"
      ]
    },
    {
      "cell_type": "code",
      "execution_count": 14,
      "metadata": {
        "colab": {
          "base_uri": "https://localhost:8080/"
        },
        "id": "qyDOSO85uUw0",
        "outputId": "ad5b9f95-4467-488c-ade8-7d7ecb30f09e"
      },
      "outputs": [
        {
          "data": {
            "text/plain": [
              "519.0    3181\n",
              "Name: start station id, dtype: int64"
            ]
          },
          "execution_count": 14,
          "metadata": {},
          "output_type": "execute_result"
        }
      ],
      "source": [
        "data[(data.start_hour.isin([18, 19, 20]))]['start station id'].value_counts().head(1)"
      ]
    },
    {
      "attachments": {},
      "cell_type": "markdown",
      "metadata": {
        "id": "GkMhEOpvurIa"
      },
      "source": [
        "##### *10. Выберите идентификаторы станций(end station id), в которые приезжают с 6 до 10 утра включительно*\n",
        "\n"
      ]
    },
    {
      "cell_type": "code",
      "execution_count": 15,
      "metadata": {
        "id": "rlwtek4Vu4J6"
      },
      "outputs": [],
      "source": [
        "data['end_hour'] = data['stoptime'].apply(lambda x: datetime.datetime.fromtimestamp(\n",
        "            time.mktime(datetime.datetime.strptime(x.strip(), \"%Y-%m-%d %H:%M:%S.%f\").timetuple())).hour)"
      ]
    },
    {
      "cell_type": "code",
      "execution_count": 16,
      "metadata": {
        "id": "oQJ0OLdf3JkQ"
      },
      "outputs": [],
      "source": [
        "values = [3140, 3106, 3116, 369]"
      ]
    },
    {
      "cell_type": "code",
      "execution_count": 17,
      "metadata": {
        "colab": {
          "base_uri": "https://localhost:8080/"
        },
        "id": "grV0XYam2UU6",
        "outputId": "3bca8cbb-eaed-4579-b1cc-dd45c009c117"
      },
      "outputs": [
        {
          "data": {
            "text/plain": [
              "array([3106., 3116., 3140.,  369.])"
            ]
          },
          "execution_count": 17,
          "metadata": {},
          "output_type": "execute_result"
        }
      ],
      "source": [
        "data[(data.end_hour.isin([6, 7, 8, 9, 10])) & \n",
        "     (data['end station id'].isin(values))]['end station id'].unique()"
      ]
    }
  ],
  "metadata": {
    "colab": {
      "provenance": []
    },
    "kernelspec": {
      "display_name": "Python 3",
      "name": "python3"
    },
    "language_info": {
      "name": "python"
    }
  },
  "nbformat": 4,
  "nbformat_minor": 0
}
